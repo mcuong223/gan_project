{
  "nbformat": 4,
  "nbformat_minor": 0,
  "metadata": {
    "colab": {
      "name": "Chestxray_classification.ipynb",
      "provenance": [],
      "collapsed_sections": [],
      "include_colab_link": true
    },
    "kernelspec": {
      "name": "python3",
      "display_name": "Python 3"
    },
    "accelerator": "GPU"
  },
  "cells": [
    {
      "cell_type": "markdown",
      "metadata": {
        "id": "view-in-github",
        "colab_type": "text"
      },
      "source": [
        "<a href=\"https://colab.research.google.com/github/ptran1203/gan_project/blob/master/notebooks/Chestxray_classification.ipynb\" target=\"_parent\"><img src=\"https://colab.research.google.com/assets/colab-badge.svg\" alt=\"Open In Colab\"/></a>"
      ]
    },
    {
      "cell_type": "code",
      "metadata": {
        "id": "ocPPZGn1xy_v",
        "colab_type": "code",
        "colab": {
          "base_uri": "https://localhost:8080/",
          "height": 35
        },
        "outputId": "fe69db54-15a0-44fa-aed3-bfc109a0c535"
      },
      "source": [
        "cd /content"
      ],
      "execution_count": 1,
      "outputs": [
        {
          "output_type": "stream",
          "text": [
            "/content\n"
          ],
          "name": "stdout"
        }
      ]
    },
    {
      "cell_type": "code",
      "metadata": {
        "id": "JWKEmzRGnkdR",
        "colab_type": "code",
        "colab": {}
      },
      "source": [
        "%tensorflow_version 1.x\n",
        "from google.colab import drive, output\n",
        "drive.mount('/content/drive')\n",
        "\n",
        "!rm -rf '/content/gan_project'\n",
        "!git clone https://github.com/ptran1203/gan_project\n",
        "!pip install git+https://www.github.com/keras-team/keras-contrib.git\n",
        "!pip install image-classifiers\n",
        "from classification_models.keras import Classifiers\n",
        "## for Model definition/training\n",
        "from keras.models import Model, load_model\n",
        "from sklearn.model_selection import train_test_split\n",
        "from keras import applications\n",
        "import matplotlib.pyplot as plt\n",
        "import matplotlib.cm as cm\n",
        "from sklearn.manifold import TSNE\n",
        "from sklearn.decomposition import PCA\n",
        "from keras.regularizers import l2\n",
        "import keras.backend as K\n",
        "from keras_contrib.applications.resnet import ResNet, basic_block\n",
        "from keras_contrib.applications.densenet import DenseNet\n",
        "import keras.applications as k_apps\n",
        "from keras.layers import (\n",
        "    Input, Dense, Reshape,\n",
        "    Flatten, Embedding, Dropout,\n",
        "    BatchNormalization, Activation,\n",
        "    Lambda,Layer, Add, Concatenate,\n",
        "    Average,GlobalAveragePooling2D,\n",
        "    MaxPooling2D, AveragePooling2D,\n",
        ")\n",
        "from keras.layers.convolutional import (\n",
        "    UpSampling2D, Convolution2D,\n",
        "    Conv2D, Conv2DTranspose\n",
        ")\n",
        "from keras.optimizers import Adam, SGD\n",
        "\n",
        "from tensorflow.examples.tutorials.mnist import input_data\n",
        "from keras.utils import to_categorical\n",
        "import tensorflow as tf\n",
        "import numpy as np\n",
        "import pickle\n",
        "\n",
        "output.clear()"
      ],
      "execution_count": 2,
      "outputs": []
    },
    {
      "cell_type": "code",
      "metadata": {
        "id": "mccYKxvLoYNU",
        "colab_type": "code",
        "colab": {
          "base_uri": "https://localhost:8080/",
          "height": 35
        },
        "outputId": "c51bfec4-fc9a-44d0-f3b6-1141cc6581ff"
      },
      "source": [
        "cd gan_project"
      ],
      "execution_count": 3,
      "outputs": [
        {
          "output_type": "stream",
          "text": [
            "/content/gan_project\n"
          ],
          "name": "stdout"
        }
      ]
    },
    {
      "cell_type": "code",
      "metadata": {
        "id": "vMr-rpTZo2-c",
        "colab_type": "code",
        "colab": {
          "base_uri": "https://localhost:8080/",
          "height": 35
        },
        "outputId": "718a4e5d-39c9-4a1c-ae07-da3dd6d15476"
      },
      "source": [
        "from tensorflow.examples.tutorials.mnist import input_data\n",
        "from keras.preprocessing.image import ImageDataGenerator\n",
        "import keras.preprocessing.image as iprocess\n",
        "import keras\n",
        "import datetime\n",
        "from triplet_loss import *\n",
        "from utils import *\n",
        "from const import *\n",
        "import metrics\n",
        "from visualization import *\n",
        "from data_augmentation.data_loader import load_gen, load_dataset\n",
        "from data_augmentation.model import *"
      ],
      "execution_count": 4,
      "outputs": [
        {
          "output_type": "stream",
          "text": [
            "Require data augmentation\n"
          ],
          "name": "stdout"
        }
      ]
    },
    {
      "cell_type": "code",
      "metadata": {
        "id": "qsgAlzMiSGkk",
        "colab_type": "code",
        "colab": {
          "base_uri": "https://localhost:8080/",
          "height": 107
        },
        "outputId": "80ecd397-ad07-42ef-baba-b110f2b332c2"
      },
      "source": [
        "## Load dataset\n",
        "# load data\n",
        "dataset = 'multi_chest'\n",
        "resolution = 64\n",
        "large = False\n",
        "train_classes = 5\n",
        "[\n",
        "    x_train, y_train, x_val, y_val,\n",
        "    x_test, y_test , x_unseen, y_unseen\n",
        "] = load_dataset(dataset, resolution, large, train_classes)"
      ],
      "execution_count": 7,
      "outputs": [
        {
          "output_type": "stream",
          "text": [
            "load data from /content/drive/My Drive/bagan/dataset/multi_chest/imgs_labels_64.pkl successfully\n",
            "\n",
            "===== data loaded =====\n",
            "\n",
            "TRAIN:  Counter({3: 690, 4: 688, 2: 685, 0: 683, 1: 674})\n"
          ],
          "name": "stdout"
        }
      ]
    },
    {
      "cell_type": "code",
      "metadata": {
        "id": "IYk27eA7-mFL",
        "colab_type": "code",
        "colab": {
          "base_uri": "https://localhost:8080/",
          "height": 1000
        },
        "outputId": "286ffa53-af62-4575-e417-9ae021fb6ae0"
      },
      "source": [
        "\n",
        "\n",
        "rst, channel = x_train.shape[2:]\n",
        "input_shape = (rst, rst, channel)\n",
        "classes = np.unique(y_train)\n",
        "num_of_classes = len(classes)\n",
        "y_train_onehot = to_categorical(y_train, num_of_classes)\n",
        "y_val_onehot = to_categorical(y_val, num_of_classes)\n",
        "feat_dims = 128\n",
        "\n",
        "\n",
        "print('Total classes: ', num_of_classes)\n",
        "print('Test on {} samples'.format(len(y_test)))\n",
        "\n",
        "GAN_V1 = 1\n",
        "GAN_V2 = 2\n",
        "BAGAN = 3\n",
        "\n",
        "RUN = 1\n",
        "\n",
        "train_on_gen = True\n",
        "if not train_on_gen:\n",
        "    # x_train_aug, y_train_aug = x_train, y_train\n",
        "    x_train_aug, y_train_aug = re_balance(x_train, y_train, [1, 1, 1, 1, 1])\n",
        "else:\n",
        "    print(\"Train on fake data\")\n",
        "    shuffle_label = False\n",
        "    x_train_aug, y_train_aug = load_gen(dataset, RUN)\n",
        "    if RUN == BAGAN:\n",
        "        x_train_aug = x_train_aug *127.5+127.5\n",
        "    show_samples(x_train_aug[:10])\n",
        "    if shuffle_label:\n",
        "        rand = np.arange(y_train_aug.shape[0])\n",
        "        np.random.shuffle(rand)\n",
        "        y_train_aug=y_train_aug[rand]\n",
        "    x_train_aug = triple_channels(x_train_aug)\n",
        "    x_train_aug, y_train_aug = (np.concatenate([x_train,x_train_aug]),\n",
        "                                np.concatenate([y_train, y_train_aug]))\n",
        "\n",
        "\n",
        "y_train_aug_onehot = to_categorical(y_train_aug, num_of_classes)\n",
        "dummy_train = np.zeros((x_train_aug.shape[0], 129))\n",
        "dummy_val = np.zeros((x_val.shape[0], 129))\n",
        "print('After aug: ', y_train_aug.shape[0])\n",
        "\n",
        "# run 5 experiments\n",
        "experiments = 5\n",
        "acc = []\n",
        "auc_scores = []\n",
        "y_test_onehot = to_categorical(y_test, num_of_classes)\n",
        "loss_weights = [1, 0.01]\n",
        "\n",
        "for i in range(experiments):\n",
        "    print(\"run experiments \", i + 1)\n",
        "    train_model = main_model(num_of_classes, rst,\n",
        "                         feat_dims, lr=3e-6,\n",
        "                         loss_weights=loss_weights)\n",
        "    H = train_model.fit([x_train_aug, y_train_aug], [y_train_aug_onehot, dummy_train],\n",
        "                        batch_size=128,\n",
        "                        epochs=30,\n",
        "                        verbose=1,\n",
        "                        validation_data=([x_val, y_val], [y_val_onehot, dummy_val]))\n",
        "    classifier = Model(inputs = train_model.inputs[0], outputs = train_model.get_layer('main_out').get_output_at(-1))\n",
        "    classifier.compile(optimizer='adam', metrics = ['accuracy'],  loss='categorical_crossentropy')\n",
        "    accuracy = classifier.evaluate(x_test, y_test_onehot, verbose=0)[1]\n",
        "    auc = metrics.auc_score(y_test, classifier.predict(x_test), verbose=0)\n",
        "    print(\"Acc \", accuracy)\n",
        "    print(\"Auc \", auc)\n",
        "    acc.append(accuracy)\n",
        "    auc_scores.append(auc)\n",
        "\n",
        "## calculate avg\n",
        "mean_acc = np.mean(np.array(acc))\n",
        "mean_auc = np.mean(np.array(auc_scores), axis=0)\n",
        "\n",
        "print(\"mean acc \", mean_acc)\n",
        "print(metrics.markdown_auc(mean_auc))"
      ],
      "execution_count": null,
      "outputs": [
        {
          "output_type": "stream",
          "text": [
            "Total classes:  5\n",
            "Test on 1080 samples\n",
            "Train on fake data\n",
            "load data from /content/drive/My Drive/bagan/dataset/multi_chest/imgs_train_gen_v1.pkl successfully\n"
          ],
          "name": "stdout"
        },
        {
          "output_type": "display_data",
          "data": {
            "image/png": "[encoded data removed]",
            "text/plain": [
              "<PIL.Image.Image image mode=RGB size=640x64 at 0x7F95314583C8>"
            ]
          },
          "metadata": {
            "tags": []
          }
        },
        {
          "output_type": "stream",
          "text": [
            "After aug:  8946\n",
            "run experiments  1\n",
            "Train on 8946 samples, validate on 500 samples\n",
            "Epoch 1/30\n",
            "8946/8946 [==============================] - 19s 2ms/step - loss: 1.5873 - main_out_loss: 1.4332 - l2_loss_loss: 15.3824 - main_out_accuracy: 0.4260 - l2_loss_accuracy: 0.0000e+00 - val_loss: 1.6558 - val_main_out_loss: 1.5457 - val_l2_loss_loss: 10.9871 - val_main_out_accuracy: 0.3200 - val_l2_loss_accuracy: 0.0000e+00\n",
            "Epoch 2/30\n",
            "8946/8946 [==============================] - 18s 2ms/step - loss: 1.3089 - main_out_loss: 1.1875 - l2_loss_loss: 12.1286 - main_out_accuracy: 0.5381 - l2_loss_accuracy: 0.0000e+00 - val_loss: 1.5886 - val_main_out_loss: 1.5057 - val_l2_loss_loss: 8.2380 - val_main_out_accuracy: 0.3600 - val_l2_loss_accuracy: 0.0000e+00\n",
            "Epoch 3/30\n",
            "8946/8946 [==============================] - 18s 2ms/step - loss: 1.2061 - main_out_loss: 1.0979 - l2_loss_loss: 10.8184 - main_out_accuracy: 0.5656 - l2_loss_accuracy: 0.0000e+00 - val_loss: 1.5493 - val_main_out_loss: 1.4798 - val_l2_loss_loss: 6.8932 - val_main_out_accuracy: 0.3780 - val_l2_loss_accuracy: 0.0000e+00\n",
            "Epoch 4/30\n",
            "8946/8946 [==============================] - 18s 2ms/step - loss: 1.1465 - main_out_loss: 1.0427 - l2_loss_loss: 10.3908 - main_out_accuracy: 0.5843 - l2_loss_accuracy: 0.0000e+00 - val_loss: 1.5256 - val_main_out_loss: 1.4614 - val_l2_loss_loss: 6.3256 - val_main_out_accuracy: 0.3860 - val_l2_loss_accuracy: 0.0000e+00\n",
            "Epoch 5/30\n",
            "8946/8946 [==============================] - 18s 2ms/step - loss: 1.1065 - main_out_loss: 1.0059 - l2_loss_loss: 10.0536 - main_out_accuracy: 0.6018 - l2_loss_accuracy: 0.0000e+00 - val_loss: 1.5073 - val_main_out_loss: 1.4449 - val_l2_loss_loss: 6.1335 - val_main_out_accuracy: 0.4080 - val_l2_loss_accuracy: 0.0000e+00\n",
            "Epoch 6/30\n",
            "8946/8946 [==============================] - 18s 2ms/step - loss: 1.0738 - main_out_loss: 0.9721 - l2_loss_loss: 10.1719 - main_out_accuracy: 0.6168 - l2_loss_accuracy: 0.0000e+00 - val_loss: 1.4902 - val_main_out_loss: 1.4300 - val_l2_loss_loss: 5.9284 - val_main_out_accuracy: 0.4240 - val_l2_loss_accuracy: 0.0000e+00\n",
            "Epoch 7/30\n",
            "8946/8946 [==============================] - 18s 2ms/step - loss: 1.0444 - main_out_loss: 0.9412 - l2_loss_loss: 10.3106 - main_out_accuracy: 0.6308 - l2_loss_accuracy: 0.0000e+00 - val_loss: 1.4774 - val_main_out_loss: 1.4159 - val_l2_loss_loss: 6.0336 - val_main_out_accuracy: 0.4220 - val_l2_loss_accuracy: 0.0000e+00\n",
            "Epoch 8/30\n",
            "8946/8946 [==============================] - 18s 2ms/step - loss: 1.0197 - main_out_loss: 0.9139 - l2_loss_loss: 10.5867 - main_out_accuracy: 0.6459 - l2_loss_accuracy: 0.0000e+00 - val_loss: 1.4696 - val_main_out_loss: 1.4051 - val_l2_loss_loss: 6.3215 - val_main_out_accuracy: 0.4280 - val_l2_loss_accuracy: 0.0000e+00\n",
            "Epoch 9/30\n",
            "8946/8946 [==============================] - 18s 2ms/step - loss: 0.9971 - main_out_loss: 0.8892 - l2_loss_loss: 10.7888 - main_out_accuracy: 0.6651 - l2_loss_accuracy: 0.0000e+00 - val_loss: 1.4680 - val_main_out_loss: 1.4041 - val_l2_loss_loss: 6.2614 - val_main_out_accuracy: 0.4240 - val_l2_loss_accuracy: 0.0000e+00\n",
            "Epoch 10/30\n",
            "8946/8946 [==============================] - 18s 2ms/step - loss: 0.9759 - main_out_loss: 0.8651 - l2_loss_loss: 11.0759 - main_out_accuracy: 0.6721 - l2_loss_accuracy: 0.0000e+00 - val_loss: 1.4579 - val_main_out_loss: 1.3876 - val_l2_loss_loss: 6.8827 - val_main_out_accuracy: 0.4320 - val_l2_loss_accuracy: 0.0000e+00\n",
            "Epoch 11/30\n",
            "8946/8946 [==============================] - 18s 2ms/step - loss: 0.9580 - main_out_loss: 0.8454 - l2_loss_loss: 11.2591 - main_out_accuracy: 0.6853 - l2_loss_accuracy: 0.0000e+00 - val_loss: 1.4507 - val_main_out_loss: 1.3852 - val_l2_loss_loss: 6.4169 - val_main_out_accuracy: 0.4320 - val_l2_loss_accuracy: 0.0000e+00\n",
            "Epoch 12/30\n",
            "8946/8946 [==============================] - 18s 2ms/step - loss: 0.9361 - main_out_loss: 0.8214 - l2_loss_loss: 11.4716 - main_out_accuracy: 0.6991 - l2_loss_accuracy: 0.0000e+00 - val_loss: 1.4548 - val_main_out_loss: 1.3828 - val_l2_loss_loss: 7.0724 - val_main_out_accuracy: 0.4340 - val_l2_loss_accuracy: 0.0000e+00\n",
            "Epoch 13/30\n",
            "8946/8946 [==============================] - 18s 2ms/step - loss: 0.9203 - main_out_loss: 0.8039 - l2_loss_loss: 11.6339 - main_out_accuracy: 0.7074 - l2_loss_accuracy: 0.0000e+00 - val_loss: 1.4501 - val_main_out_loss: 1.3772 - val_l2_loss_loss: 7.1334 - val_main_out_accuracy: 0.4360 - val_l2_loss_accuracy: 0.0000e+00\n",
            "Epoch 14/30\n",
            "8946/8946 [==============================] - 18s 2ms/step - loss: 0.9063 - main_out_loss: 0.7878 - l2_loss_loss: 11.8398 - main_out_accuracy: 0.7146 - l2_loss_accuracy: 0.0000e+00 - val_loss: 1.4550 - val_main_out_loss: 1.3771 - val_l2_loss_loss: 7.6477 - val_main_out_accuracy: 0.4320 - val_l2_loss_accuracy: 0.0000e+00\n",
            "Epoch 15/30\n",
            "8946/8946 [==============================] - 18s 2ms/step - loss: 0.8904 - main_out_loss: 0.7687 - l2_loss_loss: 12.1618 - main_out_accuracy: 0.7233 - l2_loss_accuracy: 0.0000e+00 - val_loss: 1.4452 - val_main_out_loss: 1.3698 - val_l2_loss_loss: 7.3912 - val_main_out_accuracy: 0.4420 - val_l2_loss_accuracy: 0.0000e+00\n",
            "Epoch 16/30\n",
            "8946/8946 [==============================] - 18s 2ms/step - loss: 0.8750 - main_out_loss: 0.7531 - l2_loss_loss: 12.1836 - main_out_accuracy: 0.7331 - l2_loss_accuracy: 0.0000e+00 - val_loss: 1.4483 - val_main_out_loss: 1.3656 - val_l2_loss_loss: 8.1192 - val_main_out_accuracy: 0.4460 - val_l2_loss_accuracy: 0.0000e+00\n",
            "Epoch 17/30\n",
            "8946/8946 [==============================] - 18s 2ms/step - loss: 0.8612 - main_out_loss: 0.7363 - l2_loss_loss: 12.4900 - main_out_accuracy: 0.7436 - l2_loss_accuracy: 0.0000e+00 - val_loss: 1.4561 - val_main_out_loss: 1.3733 - val_l2_loss_loss: 8.1473 - val_main_out_accuracy: 0.4220 - val_l2_loss_accuracy: 0.0000e+00\n",
            "Epoch 18/30\n",
            "8946/8946 [==============================] - 18s 2ms/step - loss: 0.8470 - main_out_loss: 0.7202 - l2_loss_loss: 12.6841 - main_out_accuracy: 0.7507 - l2_loss_accuracy: 0.0000e+00 - val_loss: 1.4469 - val_main_out_loss: 1.3642 - val_l2_loss_loss: 8.1507 - val_main_out_accuracy: 0.4520 - val_l2_loss_accuracy: 0.0000e+00\n",
            "Epoch 19/30\n",
            "8946/8946 [==============================] - 18s 2ms/step - loss: 0.8312 - main_out_loss: 0.7033 - l2_loss_loss: 12.7837 - main_out_accuracy: 0.7588 - l2_loss_accuracy: 0.0000e+00 - val_loss: 1.4530 - val_main_out_loss: 1.3625 - val_l2_loss_loss: 8.8824 - val_main_out_accuracy: 0.4360 - val_l2_loss_accuracy: 0.0000e+00\n",
            "Epoch 20/30\n",
            "8946/8946 [==============================] - 18s 2ms/step - loss: 0.8208 - main_out_loss: 0.6904 - l2_loss_loss: 13.0450 - main_out_accuracy: 0.7655 - l2_loss_accuracy: 0.0000e+00 - val_loss: 1.4506 - val_main_out_loss: 1.3620 - val_l2_loss_loss: 8.6983 - val_main_out_accuracy: 0.4540 - val_l2_loss_accuracy: 0.0000e+00\n",
            "Epoch 21/30\n",
            "8946/8946 [==============================] - 18s 2ms/step - loss: 0.8087 - main_out_loss: 0.6774 - l2_loss_loss: 13.1296 - main_out_accuracy: 0.7693 - l2_loss_accuracy: 0.0000e+00 - val_loss: 1.4548 - val_main_out_loss: 1.3644 - val_l2_loss_loss: 8.9033 - val_main_out_accuracy: 0.4380 - val_l2_loss_accuracy: 0.0000e+00\n",
            "Epoch 22/30\n",
            "8946/8946 [==============================] - 18s 2ms/step - loss: 0.7951 - main_out_loss: 0.6617 - l2_loss_loss: 13.3409 - main_out_accuracy: 0.7796 - l2_loss_accuracy: 0.0000e+00 - val_loss: 1.4606 - val_main_out_loss: 1.3634 - val_l2_loss_loss: 9.5757 - val_main_out_accuracy: 0.4380 - val_l2_loss_accuracy: 0.0000e+00\n",
            "Epoch 23/30\n",
            "8946/8946 [==============================] - 18s 2ms/step - loss: 0.7861 - main_out_loss: 0.6515 - l2_loss_loss: 13.4575 - main_out_accuracy: 0.7854 - l2_loss_accuracy: 0.0000e+00 - val_loss: 1.4547 - val_main_out_loss: 1.3597 - val_l2_loss_loss: 9.3474 - val_main_out_accuracy: 0.4400 - val_l2_loss_accuracy: 0.0000e+00\n",
            "Epoch 24/30\n",
            "8946/8946 [==============================] - 18s 2ms/step - loss: 0.7723 - main_out_loss: 0.6365 - l2_loss_loss: 13.5973 - main_out_accuracy: 0.7933 - l2_loss_accuracy: 0.0000e+00 - val_loss: 1.4583 - val_main_out_loss: 1.3561 - val_l2_loss_loss: 10.0678 - val_main_out_accuracy: 0.4600 - val_l2_loss_accuracy: 0.0000e+00\n",
            "Epoch 25/30\n",
            "8946/8946 [==============================] - 18s 2ms/step - loss: 0.7679 - main_out_loss: 0.6311 - l2_loss_loss: 13.6736 - main_out_accuracy: 0.7952 - l2_loss_accuracy: 0.0000e+00 - val_loss: 1.4715 - val_main_out_loss: 1.3629 - val_l2_loss_loss: 10.6937 - val_main_out_accuracy: 0.4320 - val_l2_loss_accuracy: 0.0000e+00\n",
            "Epoch 26/30\n",
            "8946/8946 [==============================] - 18s 2ms/step - loss: 0.7524 - main_out_loss: 0.6138 - l2_loss_loss: 13.8488 - main_out_accuracy: 0.8020 - l2_loss_accuracy: 0.0000e+00 - val_loss: 1.4739 - val_main_out_loss: 1.3631 - val_l2_loss_loss: 10.9120 - val_main_out_accuracy: 0.4400 - val_l2_loss_accuracy: 0.0000e+00\n",
            "Epoch 27/30\n",
            "8946/8946 [==============================] - 18s 2ms/step - loss: 0.7432 - main_out_loss: 0.6024 - l2_loss_loss: 14.0815 - main_out_accuracy: 0.8118 - l2_loss_accuracy: 0.0000e+00 - val_loss: 1.4637 - val_main_out_loss: 1.3562 - val_l2_loss_loss: 10.6034 - val_main_out_accuracy: 0.4400 - val_l2_loss_accuracy: 0.0000e+00\n",
            "Epoch 28/30\n",
            "8946/8946 [==============================] - 18s 2ms/step - loss: 0.7310 - main_out_loss: 0.5902 - l2_loss_loss: 14.0999 - main_out_accuracy: 0.8176 - l2_loss_accuracy: 0.0000e+00 - val_loss: 1.4641 - val_main_out_loss: 1.3566 - val_l2_loss_loss: 10.6058 - val_main_out_accuracy: 0.4500 - val_l2_loss_accuracy: 0.0000e+00\n",
            "Epoch 29/30\n",
            "8946/8946 [==============================] - 18s 2ms/step - loss: 0.7196 - main_out_loss: 0.5769 - l2_loss_loss: 14.2657 - main_out_accuracy: 0.8226 - l2_loss_accuracy: 0.0000e+00 - val_loss: 1.4667 - val_main_out_loss: 1.3570 - val_l2_loss_loss: 10.7971 - val_main_out_accuracy: 0.4560 - val_l2_loss_accuracy: 0.0000e+00\n",
            "Epoch 30/30\n",
            "8946/8946 [==============================] - 18s 2ms/step - loss: 0.7122 - main_out_loss: 0.5681 - l2_loss_loss: 14.3978 - main_out_accuracy: 0.8300 - l2_loss_accuracy: 0.0000e+00 - val_loss: 1.4740 - val_main_out_loss: 1.3610 - val_l2_loss_loss: 11.1446 - val_main_out_accuracy: 0.4460 - val_l2_loss_accuracy: 0.0000e+00\n"
          ],
          "name": "stdout"
        }
      ]
    },
    {
      "cell_type": "code",
      "metadata": {
        "id": "7TKWwa8GnShK",
        "colab_type": "code",
        "colab": {}
      },
      "source": [
        "x_train_aug, y_train_aug = load_gen(dataset, 2)\n",
        "show_samples(x_train_aug[:10] * 127.5+127.5)\n",
        "show_samples(x_train_aug[:10])"
      ],
      "execution_count": null,
      "outputs": []
    },
    {
      "cell_type": "code",
      "metadata": {
        "id": "tU1oylX604Hs",
        "colab_type": "code",
        "colab": {}
      },
      "source": [
        "embbeding_model = Model(\n",
        "    inputs = train_model.inputs[0],\n",
        "    outputs = train_model.get_layer('side_out').get_output_at(-1)\n",
        ")\n",
        "\n",
        "classifier = Model(inputs = train_model.inputs[0], outputs = train_model.get_layer('main_out').get_output_at(-1))\n",
        "# classifier = flatten_model(classifier)\n",
        "classifier.compile(optimizer='adam', metrics = ['accuracy'],  loss='categorical_crossentropy')"
      ],
      "execution_count": null,
      "outputs": []
    },
    {
      "cell_type": "code",
      "metadata": {
        "id": "OMVkbN3L9nWu",
        "colab_type": "code",
        "colab": {}
      },
      "source": [
        "\n",
        "print('Test: ',classifier.evaluate(x_test, y_test_onehot))\n",
        "print('Val: ', classifier.evaluate(x_val, y_val_onehot))\n",
        "\n",
        "auc_scores = metrics.auc_score(y_test, classifier.predict(x_test))\n",
        "\n",
        "print(metrics.markdown_auc(auc_scores))\n",
        "# _ = metrics.f1_score(y_test, classifier.predict(x_test))"
      ],
      "execution_count": null,
      "outputs": []
    },
    {
      "cell_type": "code",
      "metadata": {
        "id": "66RooFChL1xp",
        "colab_type": "code",
        "colab": {}
      },
      "source": [
        "scatter_plot(x_train, y_train, embbeding_model, 'train')\n",
        "scatter_plot(x_val, y_val, embbeding_model, 'val')\n",
        "scatter_plot(x_test, y_test, embbeding_model, 'test')"
      ],
      "execution_count": null,
      "outputs": []
    },
    {
      "cell_type": "code",
      "metadata": {
        "id": "I_6gG3joAR1D",
        "colab_type": "code",
        "colab": {}
      },
      "source": [
        "import urllib.request\n",
        "from PIL import Image\n",
        "def safe_get(l, idx):\n",
        "    try:\n",
        "        return l[idx]\n",
        "    except:\n",
        "        return idx\n",
        "def get_img(url):\n",
        "    req = urllib.request.urlopen(url)\n",
        "    arr = np.asarray(bytearray(req.read()), dtype=np.uint8)\n",
        "    img = cv2.imdecode(arr, -1)\n",
        "    img = cv2.resize(img, (rst, rst))\n",
        "    img = add_padding(img)\n",
        "    # img = cv2.cvtColor(img, cv2.COLOR_BGR2GRAY)\n",
        "    img = (img- 127.5) / 127.5\n",
        "    img= img.reshape(1, rst, rst, 3)\n",
        "    return img\n",
        "\n",
        "guided_model = build_guided_model(classifier)\n",
        "# guided_model = build_guided_model(build_model())\n",
        "random = np.random.randint(0, len(x_test) - 1)\n",
        "test_img = (x_test[random:random+1])\n",
        "train_img = x_train[random:random+1]\n",
        "# test_img = get_img()\n",
        "show_samples(test_img)\n",
        "pred_test = classifier.predict(test_img)[0]\n",
        "pred_test = np.argmax(pred_test)\n",
        "pred_train = classifier.predict(train_img)[0]\n",
        "pred_train = np.argmax(pred_train)\n",
        "print('Prediction: {}\\n true label: {}'.format(safe_get(INVERT_CATEGORIES_MAP, pred_test),\n",
        "                                              safe_get(INVERT_CATEGORIES_MAP, y_test[random])))\n",
        "\n",
        "gradcam, gb, guided_gradcam = compute_saliency(classifier ,guided_model, test_img, layer_name='block5_conv3', \n",
        "                                               cls=-1, visualize=True, save=False)\n",
        "\n",
        "print('Prediction: {}\\n true label: {}'.format(safe_get(INVERT_CATEGORIES_MAP, pred_train),\n",
        "                                              safe_get(INVERT_CATEGORIES_MAP, y_train[random])))\n",
        "gradcam, gb, guided_gradcam = compute_saliency(classifier ,guided_model, train_img, layer_name='block5_conv3', \n",
        "                                               cls=-1, visualize=True, save=False)"
      ],
      "execution_count": null,
      "outputs": []
    },
    {
      "cell_type": "code",
      "metadata": {
        "id": "9qG6Mgr2bhpm",
        "colab_type": "code",
        "colab": {}
      },
      "source": [
        "\n",
        "fname = '/content/drive/My Drive/bagan/{}/latent_encoder_{}'.format(dataset, x_train.shape[1])\n",
        "with open(fname + '.json', 'w', encoding='utf-8') as f:\n",
        "    print('Save json model')\n",
        "    f.write(embbeding_model.to_json())\n",
        "embbeding_model.save(fname + '.h5')\n",
        "print(\"Save model for dataset \", dataset)"
      ],
      "execution_count": null,
      "outputs": []
    },
    {
      "cell_type": "code",
      "metadata": {
        "id": "D6-XDJH0Yetz",
        "colab_type": "code",
        "colab": {}
      },
      "source": [
        "print(\"Test\")\n",
        "fname = '/content/drive/My Drive/bagan/{}/latent_encoder_{}'.format(dataset, x_train.shape[1])\n",
        "\n",
        "with open(fname + '.json', 'r') as f:\n",
        "    embbeding_model = keras.models.model_from_json(f.read())\n",
        "    embbeding_model.load_weights(fname + '.h5')\n",
        "    scatter_plot(x_train, y_train, embbeding_model, 'train')"
      ],
      "execution_count": null,
      "outputs": []
    }
  ]
}